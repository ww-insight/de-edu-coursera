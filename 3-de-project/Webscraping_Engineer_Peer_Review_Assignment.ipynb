{
 "cells": [
  {
   "cell_type": "markdown",
   "metadata": {},
   "source": [
    "<p style=\"text-align:center\">\n",
    "    <a href=\"https://skills.network/?utm_medium=Exinfluencer&utm_source=Exinfluencer&utm_content=000026UJ&utm_term=10006555&utm_id=NA-SkillsNetwork-Channel-SkillsNetworkCoursesIBMDeveloperSkillsNetworkPY0221ENSkillsNetwork23455645-2022-01-01\" target=\"_blank\">\n",
    "    <img src=\"https://cf-courses-data.s3.us.cloud-object-storage.appdomain.cloud/assets/logos/SN_web_lightmode.png\" width=\"200\" alt=\"Skills Network Logo\"  />\n",
    "    </a>\n",
    "</p>\n"
   ]
  },
  {
   "cell_type": "markdown",
   "metadata": {},
   "source": [
    "# Peer Review Assignment - Data Engineer - Webscraping\n"
   ]
  },
  {
   "cell_type": "markdown",
   "metadata": {},
   "source": [
    "Estimated time needed: **20** minutes\n"
   ]
  },
  {
   "cell_type": "markdown",
   "metadata": {},
   "source": [
    "## Objectives\n",
    "\n",
    "In this part you will:\n",
    "\n",
    "*   Use webscraping to get bank information\n"
   ]
  },
  {
   "cell_type": "markdown",
   "metadata": {},
   "source": [
    "For this lab, we are going to be using Python and several Python libraries. Some of these libraries might be installed in your lab environment or in SN Labs. Others may need to be installed by you. The cells below will install these libraries when executed.\n"
   ]
  },
  {
   "cell_type": "code",
   "execution_count": 6,
   "metadata": {},
   "outputs": [
    {
     "name": "stdout",
     "output_type": "stream",
     "text": [
      "Requirement already satisfied: bs4 in /Users/wwbel/anaconda3/lib/python3.6/site-packages (0.0.1)\n",
      "Requirement already satisfied: beautifulsoup4 in /Users/wwbel/anaconda3/lib/python3.6/site-packages (from bs4) (4.6.0)\n",
      "Requirement already satisfied: html5lib in /Users/wwbel/anaconda3/lib/python3.6/site-packages (1.1)\n",
      "Requirement already satisfied: six>=1.9 in /Users/wwbel/anaconda3/lib/python3.6/site-packages (from html5lib) (1.11.0)\n",
      "Requirement already satisfied: webencodings in /Users/wwbel/anaconda3/lib/python3.6/site-packages (from html5lib) (0.5.1)\n"
     ]
    }
   ],
   "source": [
    "#!mamba install pandas==1.3.3 -y\n",
    "#!mamba install requests==2.26.0 -y\n",
    "!pip install bs4\n",
    "!pip install html5lib"
   ]
  },
  {
   "cell_type": "markdown",
   "metadata": {},
   "source": [
    "## Imports\n",
    "\n",
    "Import any additional libraries you may need here.\n"
   ]
  },
  {
   "cell_type": "code",
   "execution_count": 7,
   "metadata": {},
   "outputs": [],
   "source": [
    "from bs4 import BeautifulSoup\n",
    "import html5lib\n",
    "import requests\n",
    "import pandas as pd"
   ]
  },
  {
   "cell_type": "markdown",
   "metadata": {},
   "source": [
    "## Extract Data Using Web Scraping\n"
   ]
  },
  {
   "cell_type": "markdown",
   "metadata": {},
   "source": [
    "The wikipedia webpage [https://en.wikipedia.org/wiki/List_of_largest_banks](https://en.wikipedia.org/wiki/List_of_largest_banks?utm_medium=Exinfluencer&utm_source=Exinfluencer&utm_content=000026UJ&utm_term=10006555&utm_id=NA-SkillsNetwork-Channel-SkillsNetworkCoursesIBMDeveloperSkillsNetworkPY0221ENSkillsNetwork23455645-2022-01-01) provides information about largest banks in the world by various parameters. Scrape the data from the table 'By market capitalization' and store it in a JSON file.\n"
   ]
  },
  {
   "cell_type": "markdown",
   "metadata": {},
   "source": [
    "### Webpage Contents\n",
    "\n",
    "Gather the contents of the webpage in text format using the `requests` library and assign it to the variable <code>html_data</code>\n"
   ]
  },
  {
   "cell_type": "code",
   "execution_count": 8,
   "metadata": {},
   "outputs": [],
   "source": [
    "#Write your code here\n",
    "wiki_url = \"https://en.wikipedia.org/wiki/List_of_largest_banks?utm_medium=Exinfluencer&utm_source=Exinfluencer&utm_content=000026UJ&utm_term=10006555&utm_id=NA-SkillsNetwork-Channel-SkillsNetworkCoursesIBMDeveloperSkillsNetworkPY0221ENSkillsNetwork23455645-2022-01-01\"\n",
    "wiki_html = requests.get(wiki_url)\n",
    "html_data = wiki_html.content\n",
    "wiki_soup = BeautifulSoup(wiki_html.content, \"html.parser\")"
   ]
  },
  {
   "cell_type": "markdown",
   "metadata": {},
   "source": [
    "<b>Question 1</b> Print out the output of the following line, and remember it as it will be a quiz question:\n"
   ]
  },
  {
   "cell_type": "code",
   "execution_count": 9,
   "metadata": {},
   "outputs": [
    {
     "data": {
      "text/plain": [
       "b'List of largest banks -'"
      ]
     },
     "execution_count": 9,
     "metadata": {},
     "output_type": "execute_result"
    }
   ],
   "source": [
    "html_data[101:124]"
   ]
  },
  {
   "cell_type": "markdown",
   "metadata": {},
   "source": [
    "### Scraping the Data\n",
    "\n",
    "<b> Question 2</b> Using the contents and `beautiful soup` load the data from the `By market capitalization` table into a `pandas` dataframe. The dataframe should have the bank `Name` and `Market Cap (US$ Billion)` as column names.  Display the first five rows using head.\n"
   ]
  },
  {
   "cell_type": "markdown",
   "metadata": {},
   "source": [
    "Using BeautifulSoup parse the contents of the webpage.\n"
   ]
  },
  {
   "cell_type": "code",
   "execution_count": 10,
   "metadata": {},
   "outputs": [],
   "source": [
    "#Replace the dots below\n",
    "soup=BeautifulSoup(html_data, \"html.parser\")"
   ]
  },
  {
   "cell_type": "markdown",
   "metadata": {},
   "source": [
    "Load the data from the `By market capitalization` table into a pandas dataframe. The dataframe should have the bank `Name` and `Market Cap (US$ Billion)` as column names. Using the empty dataframe `data` and the given loop extract the necessary data from each row and append it to the empty dataframe.\n"
   ]
  },
  {
   "cell_type": "code",
   "execution_count": 11,
   "metadata": {},
   "outputs": [],
   "source": [
    "data = pd.DataFrame(columns=[\"Name\", \"Market Cap (US$ Billion)\"])\n",
    "wiki_tab = wiki_soup.find('span',id=\"By_market_capitalization\",string=\"By market capitalization\").find_next('table')\n",
    "for row in wiki_tab.find_all('tr'):\n",
    "    col = row.find_all('td')\n",
    "    if len(col) > 0:\n",
    "        data = data.append({\"Name\": col[1].find_all('a')[1].text, \"Market Cap (US$ Billion)\": col[2].string}, ignore_index=True)"
   ]
  },
  {
   "cell_type": "markdown",
   "metadata": {},
   "source": [
    "**Question 3** Display the first five rows using the `head` function.\n"
   ]
  },
  {
   "cell_type": "code",
   "execution_count": 12,
   "metadata": {},
   "outputs": [
    {
     "data": {
      "text/html": [
       "<div>\n",
       "<style scoped>\n",
       "    .dataframe tbody tr th:only-of-type {\n",
       "        vertical-align: middle;\n",
       "    }\n",
       "\n",
       "    .dataframe tbody tr th {\n",
       "        vertical-align: top;\n",
       "    }\n",
       "\n",
       "    .dataframe thead th {\n",
       "        text-align: right;\n",
       "    }\n",
       "</style>\n",
       "<table border=\"1\" class=\"dataframe\">\n",
       "  <thead>\n",
       "    <tr style=\"text-align: right;\">\n",
       "      <th></th>\n",
       "      <th>Name</th>\n",
       "      <th>Market Cap (US$ Billion)</th>\n",
       "    </tr>\n",
       "  </thead>\n",
       "  <tbody>\n",
       "    <tr>\n",
       "      <th>0</th>\n",
       "      <td>JPMorgan Chase</td>\n",
       "      <td>368.78</td>\n",
       "    </tr>\n",
       "    <tr>\n",
       "      <th>1</th>\n",
       "      <td>Industrial and Commercial Bank of China</td>\n",
       "      <td>295.65</td>\n",
       "    </tr>\n",
       "    <tr>\n",
       "      <th>2</th>\n",
       "      <td>Bank of America</td>\n",
       "      <td>279.73</td>\n",
       "    </tr>\n",
       "    <tr>\n",
       "      <th>3</th>\n",
       "      <td>Wells Fargo</td>\n",
       "      <td>214.34</td>\n",
       "    </tr>\n",
       "    <tr>\n",
       "      <th>4</th>\n",
       "      <td>China Construction Bank</td>\n",
       "      <td>207.98</td>\n",
       "    </tr>\n",
       "  </tbody>\n",
       "</table>\n",
       "</div>"
      ],
      "text/plain": [
       "                                      Name Market Cap (US$ Billion)\n",
       "0                           JPMorgan Chase                  368.78\n",
       "\n",
       "1  Industrial and Commercial Bank of China                  295.65\n",
       "\n",
       "2                          Bank of America                  279.73\n",
       "\n",
       "3                              Wells Fargo                  214.34\n",
       "\n",
       "4                  China Construction Bank                  207.98"
      ]
     },
     "execution_count": 12,
     "metadata": {},
     "output_type": "execute_result"
    }
   ],
   "source": [
    "#Write your code here\n",
    "data.head(5)"
   ]
  },
  {
   "cell_type": "markdown",
   "metadata": {},
   "source": [
    "### Loading the Data\n",
    "\n",
    "Usually you will Load the `pandas` dataframe created above into a JSON named `bank_market_cap.json` using the `to_json()` function, but this time the data will be sent to another team who will split the data file into two files and inspect it. If you save the data it will interfere with the next part of the assignment.\n"
   ]
  },
  {
   "cell_type": "code",
   "execution_count": 13,
   "metadata": {},
   "outputs": [
    {
     "data": {
      "text/plain": [
       "'{\"Name\":{\"0\":\"JPMorgan Chase\",\"1\":\"Industrial and Commercial Bank of China\",\"2\":\"Bank of America\",\"3\":\"Wells Fargo\",\"4\":\"China Construction Bank\",\"5\":\"Agricultural Bank of China\",\"6\":\"HSBC Holdings PLC\",\"7\":\"Citigroup Inc.\",\"8\":\"Bank of China\",\"9\":\"China Merchants Bank\",\"10\":\"Royal Bank of Canada\",\"11\":\"Toronto-Dominion Bank\",\"12\":\"Commonwealth Bank\",\"13\":\"Ita\\\\u00fa Unibanco\",\"14\":\"U.S. Bancorp\",\"15\":\"Goldman Sachs\",\"16\":\"Banco Santander\",\"17\":\"Morgan Stanley\",\"18\":\"Westpac\",\"19\":\"Mitsubishi UFJ Financial Group\",\"20\":\"Scotiabank\",\"21\":\"PNC Financial Services\",\"22\":\"Bank of Communications\",\"23\":\"BNP Paribas\",\"24\":\"Australia and New Zealand Banking Group\",\"25\":\"National Australia Bank\",\"26\":\"Lloyds Banking Group\",\"27\":\"Sumitomo Mitsui Financial Group\",\"28\":\"Bank of Montreal\",\"29\":\"UBS\",\"30\":\"ING Group\",\"31\":\"Capital One\",\"32\":\"The Bank of New York Mellon\",\"33\":\"China Minsheng Bank\",\"34\":\"China CITIC Bank\",\"35\":\"Banco Bilbao Vizcaya Argentaria\",\"36\":\"Mizuho Financial Group\",\"37\":\"Intesa Sanpaolo\",\"38\":\"Cr\\\\u00e9dit Agricole\",\"39\":\"Canadian Imperial Bank of Commerce\",\"40\":\"Royal Bank of Scotland\",\"41\":\"Barclays\",\"42\":\"Credit Suisse\",\"43\":\"Nordea\",\"44\":\"Standard Chartered\",\"45\":\"KBC Bank\",\"46\":\"UniCredit\",\"47\":\"Soci\\\\u00e9t\\\\u00e9 G\\\\u00e9n\\\\u00e9rale\",\"48\":\"Deutsche Bank\"},\"Market Cap (US$ Billion)\":{\"0\":\"368.78\\\\n\",\"1\":\"295.65\\\\n\",\"2\":\"279.73\\\\n\",\"3\":\"214.34\\\\n\",\"4\":\"207.98\\\\n\",\"5\":\"181.49\\\\n\",\"6\":\"169.47\\\\n\",\"7\":\"163.58\\\\n\",\"8\":\"151.15\\\\n\",\"9\":\"133.37\\\\n\",\"10\":\"113.80\\\\n\",\"11\":\"106.61\\\\n\",\"12\":\"99.77\\\\n\",\"13\":\"85.68\\\\n\",\"14\":\"84.40\\\\n\",\"15\":\"78.70\\\\n\",\"16\":\"75.47\\\\n\",\"17\":\"73.93\\\\n\",\"18\":\"67.84\\\\n\",\"19\":\"66.20\\\\n\",\"20\":\"65.48\\\\n\",\"21\":\"63.11\\\\n\",\"22\":\"61.85\\\\n\",\"23\":\"59.36\\\\n\",\"24\":\"54.88\\\\n\",\"25\":\"51.68\\\\n\",\"26\":\"51.19\\\\n\",\"27\":\"49.85\\\\n\",\"28\":\"48.12\\\\n\",\"29\":\"45.92\\\\n\",\"30\":\"44.97\\\\n\",\"31\":\"43.22\\\\n\",\"32\":\"42.58\\\\n\",\"33\":\"39.13\\\\n\",\"34\":\"38.55\\\\n\",\"35\":\"37.42\\\\n\",\"36\":\"36.95\\\\n\",\"37\":\"36.90\\\\n\",\"38\":\"34.89\\\\n\",\"39\":\"34.87\\\\n\",\"40\":\"33.95\\\\n\",\"41\":\"33.26\\\\n\",\"42\":\"30.75\\\\n\",\"43\":\"29.59\\\\n\",\"44\":\"29.37\\\\n\",\"45\":\"27.40\\\\n\",\"46\":\"26.88\\\\n\",\"47\":\"21.27\\\\n\",\"48\":\"15.77\\\\n\"}}'"
      ]
     },
     "execution_count": 13,
     "metadata": {},
     "output_type": "execute_result"
    }
   ],
   "source": [
    "#Write your code here\n",
    "data.to_json()"
   ]
  },
  {
   "cell_type": "markdown",
   "metadata": {},
   "source": [
    "## Authors\n"
   ]
  },
  {
   "cell_type": "markdown",
   "metadata": {},
   "source": [
    "Ramesh Sannareddy, Joseph Santarcangelo and Azim Hirjani\n"
   ]
  },
  {
   "cell_type": "markdown",
   "metadata": {},
   "source": [
    "### Other Contributors\n"
   ]
  },
  {
   "cell_type": "markdown",
   "metadata": {},
   "source": [
    "Rav Ahuja\n"
   ]
  },
  {
   "cell_type": "markdown",
   "metadata": {},
   "source": [
    "## Change Log\n"
   ]
  },
  {
   "cell_type": "markdown",
   "metadata": {},
   "source": [
    "| Date (YYYY-MM-DD) | Version | Changed By          | Change Description                 |\n",
    "| ----------------- | ------- | ------------------- | ---------------------------------- |\n",
    "| 2022-07-12        | 0.2     | Appalabhaktula Hema | Corrected the code and markdown    |\n",
    "| 2020-11-25        | 0.1     | Ramesh Sannareddy   | Created initial version of the lab |\n"
   ]
  },
  {
   "cell_type": "markdown",
   "metadata": {},
   "source": [
    "Copyright © 2020 IBM Corporation.\n"
   ]
  }
 ],
 "metadata": {
  "kernelspec": {
   "display_name": "Python 3",
   "language": "python",
   "name": "python3"
  },
  "language_info": {
   "codemirror_mode": {
    "name": "ipython",
    "version": 3
   },
   "file_extension": ".py",
   "mimetype": "text/x-python",
   "name": "python",
   "nbconvert_exporter": "python",
   "pygments_lexer": "ipython3",
   "version": "3.6.8"
  }
 },
 "nbformat": 4,
 "nbformat_minor": 4
}
